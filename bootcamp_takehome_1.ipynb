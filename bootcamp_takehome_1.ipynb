{
  "nbformat": 4,
  "nbformat_minor": 0,
  "metadata": {
    "colab": {
      "provenance": [],
      "authorship_tag": "ABX9TyM8ZQ88as04We8dmFoO4gff",
      "include_colab_link": true
    },
    "kernelspec": {
      "name": "python3",
      "display_name": "Python 3"
    },
    "language_info": {
      "name": "python"
    }
  },
  "cells": [
    {
      "cell_type": "markdown",
      "metadata": {
        "id": "view-in-github",
        "colab_type": "text"
      },
      "source": [
        "<a href=\"https://colab.research.google.com/github/ErenGunes1678/Global-AI-Hub-bootcamp-project-1/blob/main/bootcamp_takehome_1.ipynb\" target=\"_parent\"><img src=\"https://colab.research.google.com/assets/colab-badge.svg\" alt=\"Open In Colab\"/></a>"
      ]
    },
    {
      "cell_type": "code",
      "execution_count": null,
      "metadata": {
        "id": "VCa5FONcnsvv"
      },
      "outputs": [],
      "source": [
        "class Library:\n",
        "    def __init__(self, filename):\n",
        "        self.filename = filename\n",
        "        self.file = open(filename, \"a+\")\n",
        "\n",
        "    def __del__(self):\n",
        "        self.file.close()\n",
        "\n",
        "    def list_books(self):\n",
        "        self.file.seek(0)\n",
        "        content = self.file.read()\n",
        "        lines_list = content.splitlines()\n",
        "        for line in lines_list:\n",
        "            index1 = line.find(\",\")\n",
        "            index2 = line.find(\",\", index1+1)\n",
        "            print(line[:index1] + \" - \" + line[index1+2:index2])\n",
        "\n",
        "    def add_book(self):\n",
        "        title = input(\"Enter book title: \")\n",
        "        author = input(\"Enter author: \")\n",
        "        release_year = input(\"Enter release year: \")\n",
        "        num_pages = input(\"Enter number of pages: \")\n",
        "\n",
        "        book = f\"{title}, {author}, {release_year}, {num_pages}\\n\"\n",
        "        self.file.write(book)\n",
        "\n",
        "    def remove_book(self):\n",
        "        book_title = input(\"Enter book title you want to remove: \")\n",
        "        with open(self.filename, \"r\") as f:\n",
        "            lines = f.readlines()\n",
        "        with open(self.filename, \"w\") as f:\n",
        "            for line in lines:\n",
        "                if book_title not in line:\n",
        "                    f.write(line)\n",
        "\n",
        "lib = Library(\"books.txt\")\n",
        "\n",
        "print(\"\\n***MENU***\\n1) List Books\\n2) Add Book\\n3) Remove Book\\n4) QUIT\")\n",
        "choice = input(\"Please enter your choice (1-4): \")\n",
        "while True:\n",
        "    if choice == \"1\":\n",
        "        lib.list_books()\n",
        "        print(f\"\\n***MENU***\\n1) List Books\\n2) Add Book\\n3) Remove Book\\n4) QUIT\")\n",
        "        choice = input(\"Please enter your choice (1-4): \")\n",
        "    elif choice == \"2\":\n",
        "        lib.add_book()\n",
        "        print(f\"\\n***MENU***\\n1) List Books\\n2) Add Book\\n3) Remove Book\\n4) QUIT\")\n",
        "        choice = input(\"Please enter your choice (1-4): \")\n",
        "    elif choice == \"3\":\n",
        "        lib.remove_book()\n",
        "        print(f\"\\n***MENU***\\n1) List Books\\n2) Add Book\\n3) Remove Book\\n4) QUIT\")\n",
        "        choice = input(\"Please enter your choice (1-4): \")\n",
        "    elif choice == \"4\":\n",
        "        print(\"Quitting...\")\n",
        "        break\n",
        "    else:\n",
        "        print(\"\\nERROR! Invalid choice. Please enter a number from 1 to 4.\")\n",
        "        print(f\"\\n***MENU***\\n1) List Books\\n2) Add Book\\n3) Remove Book\\n4) QUIT\")\n",
        "        choice = input(\"Please enter your choice (1-4): \")"
      ]
    }
  ]
}